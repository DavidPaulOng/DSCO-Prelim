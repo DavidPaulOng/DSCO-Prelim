{
 "cells": [
  {
   "cell_type": "code",
   "execution_count": 1,
   "metadata": {},
   "outputs": [],
   "source": [
    "import numpy as np\n",
    "import matplotlib.pyplot as plt\n",
    "import pandas as pd\n",
    "from sklearn.model_selection import train_test_split\n",
    "import seaborn as sns\n",
    "from tqdm import tqdm\n",
    "from time import sleep"
   ]
  },
  {
   "cell_type": "markdown",
   "metadata": {},
   "source": [
    "## Problem Understanding"
   ]
  },
  {
   "cell_type": "markdown",
   "metadata": {},
   "source": [
    "The data provided comes from IBM which records transactions that contain a variable that indicates the transaction is considered an act of money laundering. The main objective in this case is to create a model that can predict whether money laundering will occur or not, which can be done using various models. Based on the data obtained, further cleaning and processing of the data is required before modeling, such as outlier cleaning, data balancing, and feature encoding so that the prediction results produced by the model are accurate. The EDA process is also carried out before feature encoding so that understanding of the data becomes deeper.\n",
    "\n",
    "The common problems of fraud detection is the large amount of data that is in the majority class compared to the minority class. This results in models that can achieve very high accuracy despite not detecting any of the fraud it is supposed to detect. Several methods have been devised to create models that is more suitable for this type of imbalanced data such as over sampling and under sampling. In the modelling process, it is also crucial to not hyper focus on the accuracy of the model but instead also look at the other performance metrics such as recall and f1 score. Striking a balance between identifying potential fraud and avoiding false positives is crucial. Too many false positives can lead to inconvenience for legitimate users and erode trust in the system."
   ]
  },
  {
   "cell_type": "markdown",
   "metadata": {},
   "source": [
    "#### Loading a large amount of data is more efficient using the dask python library to segregate the data into several partitions"
   ]
  },
  {
   "cell_type": "code",
   "execution_count": 2,
   "metadata": {},
   "outputs": [],
   "source": [
    "from dask import dataframe as dd\n",
    "HI = dd.read_csv('HI-Large_Trans.csv', blocksize='50MB')\n",
    "LI = dd.read_csv('LI-Large_Trans.csv',  blocksize='50MB')"
   ]
  },
  {
   "cell_type": "code",
   "execution_count": 3,
   "metadata": {},
   "outputs": [],
   "source": [
    "df = dd.concat([HI, LI], axis = 0)"
   ]
  },
  {
   "cell_type": "code",
   "execution_count": 11,
   "metadata": {},
   "outputs": [
    {
     "data": {
      "text/plain": [
       "Timestamp              object\n",
       "From Bank               int64\n",
       "Account                object\n",
       "To Bank                 int64\n",
       "Account.1              object\n",
       "Amount Received       float64\n",
       "Receiving Currency     object\n",
       "Amount Paid           float64\n",
       "Payment Currency       object\n",
       "Payment Format         object\n",
       "Is Laundering           int64\n",
       "dtype: object"
      ]
     },
     "execution_count": 11,
     "metadata": {},
     "output_type": "execute_result"
    }
   ],
   "source": [
    "df.dtypes"
   ]
  },
  {
   "cell_type": "markdown",
   "metadata": {},
   "source": [
    "## Data Processing + EDA"
   ]
  },
  {
   "cell_type": "markdown",
   "metadata": {},
   "source": [
    "#### Changing the Timestamp feature to date_time data type so it can be used for further analysis"
   ]
  },
  {
   "cell_type": "code",
   "execution_count": 4,
   "metadata": {},
   "outputs": [],
   "source": [
    "df = df.map_partitions(lambda partition, col = \"Timestamp\": partition.assign(**{col: pd.to_datetime(partition[col])}), meta = {**{\"Timestamp\": 'datetime64[ns]'}, **df.dtypes[1:].to_dict()})"
   ]
  },
  {
   "cell_type": "markdown",
   "metadata": {},
   "source": [
    "#### Checking for null values in the dataset"
   ]
  },
  {
   "cell_type": "code",
   "execution_count": 13,
   "metadata": {},
   "outputs": [
    {
     "data": {
      "text/plain": [
       "Timestamp             0\n",
       "From Bank             0\n",
       "Account               0\n",
       "To Bank               0\n",
       "Account.1             0\n",
       "Amount Received       0\n",
       "Receiving Currency    0\n",
       "Amount Paid           0\n",
       "Payment Currency      0\n",
       "Payment Format        0\n",
       "Is Laundering         0\n",
       "dtype: int64"
      ]
     },
     "execution_count": 13,
     "metadata": {},
     "output_type": "execute_result"
    }
   ],
   "source": [
    "df.isna().sum().compute()"
   ]
  },
  {
   "cell_type": "markdown",
   "metadata": {},
   "source": [
    "#### Finding the all unique currencies in the dataset"
   ]
  },
  {
   "cell_type": "code",
   "execution_count": 65,
   "metadata": {},
   "outputs": [
    {
     "data": {
      "text/plain": [
       "Payment Currency\n",
       "Australian Dollar     10600483\n",
       "Bitcoin                7489817\n",
       "Brazil Real            8452701\n",
       "Canadian Dollar       11742551\n",
       "Euro                  82712449\n",
       "Mexican Peso           8805753\n",
       "Ruble                 10072030\n",
       "Rupee                 11074564\n",
       "Saudi Riyal            6829211\n",
       "Shekel                11494169\n",
       "Swiss Franc           10304839\n",
       "UK Pound              11095476\n",
       "US Dollar            132538979\n",
       "Yen                    9884688\n",
       "Yuan                  22671076\n",
       "Name: Payment Currency, dtype: int64"
      ]
     },
     "execution_count": 65,
     "metadata": {},
     "output_type": "execute_result"
    }
   ],
   "source": [
    "df.groupby([\"Payment Currency\"])[\"Payment Currency\"].count().compute()"
   ]
  },
  {
   "cell_type": "markdown",
   "metadata": {},
   "source": [
    "#### Converting all the currencies into a standardized one because of their extremely different exchange rates. The chosen standard currency is the US Dollar"
   ]
  },
  {
   "cell_type": "code",
   "execution_count": 5,
   "metadata": {},
   "outputs": [
    {
     "data": {
      "text/html": [
       "<div>\n",
       "<style scoped>\n",
       "    .dataframe tbody tr th:only-of-type {\n",
       "        vertical-align: middle;\n",
       "    }\n",
       "\n",
       "    .dataframe tbody tr th {\n",
       "        vertical-align: top;\n",
       "    }\n",
       "\n",
       "    .dataframe thead th {\n",
       "        text-align: right;\n",
       "    }\n",
       "</style>\n",
       "<table border=\"1\" class=\"dataframe\">\n",
       "  <thead>\n",
       "    <tr style=\"text-align: right;\">\n",
       "      <th></th>\n",
       "      <th>Timestamp</th>\n",
       "      <th>From Bank</th>\n",
       "      <th>Account</th>\n",
       "      <th>To Bank</th>\n",
       "      <th>Account.1</th>\n",
       "      <th>Amount Received</th>\n",
       "      <th>Receiving Currency</th>\n",
       "      <th>Amount Paid</th>\n",
       "      <th>Payment Currency</th>\n",
       "      <th>Payment Format</th>\n",
       "      <th>Is Laundering</th>\n",
       "    </tr>\n",
       "  </thead>\n",
       "  <tbody>\n",
       "    <tr>\n",
       "      <th>0</th>\n",
       "      <td>2022-08-01 00:17:00</td>\n",
       "      <td>20</td>\n",
       "      <td>800104D70</td>\n",
       "      <td>20</td>\n",
       "      <td>800104D70</td>\n",
       "      <td>6794.63</td>\n",
       "      <td>US Dollar</td>\n",
       "      <td>6794.63</td>\n",
       "      <td>US Dollar</td>\n",
       "      <td>Reinvestment</td>\n",
       "      <td>0</td>\n",
       "    </tr>\n",
       "    <tr>\n",
       "      <th>1</th>\n",
       "      <td>2022-08-01 00:02:00</td>\n",
       "      <td>3196</td>\n",
       "      <td>800107150</td>\n",
       "      <td>3196</td>\n",
       "      <td>800107150</td>\n",
       "      <td>7739.29</td>\n",
       "      <td>US Dollar</td>\n",
       "      <td>7739.29</td>\n",
       "      <td>US Dollar</td>\n",
       "      <td>Reinvestment</td>\n",
       "      <td>0</td>\n",
       "    </tr>\n",
       "    <tr>\n",
       "      <th>2</th>\n",
       "      <td>2022-08-01 00:17:00</td>\n",
       "      <td>1208</td>\n",
       "      <td>80010E430</td>\n",
       "      <td>1208</td>\n",
       "      <td>80010E430</td>\n",
       "      <td>1880.23</td>\n",
       "      <td>US Dollar</td>\n",
       "      <td>1880.23</td>\n",
       "      <td>US Dollar</td>\n",
       "      <td>Reinvestment</td>\n",
       "      <td>0</td>\n",
       "    </tr>\n",
       "    <tr>\n",
       "      <th>3</th>\n",
       "      <td>2022-08-01 00:03:00</td>\n",
       "      <td>1208</td>\n",
       "      <td>80010E650</td>\n",
       "      <td>20</td>\n",
       "      <td>80010E6F0</td>\n",
       "      <td>73966883.00</td>\n",
       "      <td>US Dollar</td>\n",
       "      <td>73966883.00</td>\n",
       "      <td>US Dollar</td>\n",
       "      <td>Cheque</td>\n",
       "      <td>0</td>\n",
       "    </tr>\n",
       "    <tr>\n",
       "      <th>4</th>\n",
       "      <td>2022-08-01 00:02:00</td>\n",
       "      <td>1208</td>\n",
       "      <td>80010E650</td>\n",
       "      <td>20</td>\n",
       "      <td>80010EA30</td>\n",
       "      <td>45868454.00</td>\n",
       "      <td>US Dollar</td>\n",
       "      <td>45868454.00</td>\n",
       "      <td>US Dollar</td>\n",
       "      <td>Cheque</td>\n",
       "      <td>0</td>\n",
       "    </tr>\n",
       "  </tbody>\n",
       "</table>\n",
       "</div>"
      ],
      "text/plain": [
       "            Timestamp  From Bank    Account  To Bank  Account.1  \\\n",
       "0 2022-08-01 00:17:00         20  800104D70       20  800104D70   \n",
       "1 2022-08-01 00:02:00       3196  800107150     3196  800107150   \n",
       "2 2022-08-01 00:17:00       1208  80010E430     1208  80010E430   \n",
       "3 2022-08-01 00:03:00       1208  80010E650       20  80010E6F0   \n",
       "4 2022-08-01 00:02:00       1208  80010E650       20  80010EA30   \n",
       "\n",
       "   Amount Received Receiving Currency  Amount Paid Payment Currency  \\\n",
       "0          6794.63          US Dollar      6794.63        US Dollar   \n",
       "1          7739.29          US Dollar      7739.29        US Dollar   \n",
       "2          1880.23          US Dollar      1880.23        US Dollar   \n",
       "3      73966883.00          US Dollar  73966883.00        US Dollar   \n",
       "4      45868454.00          US Dollar  45868454.00        US Dollar   \n",
       "\n",
       "  Payment Format  Is Laundering  \n",
       "0   Reinvestment              0  \n",
       "1   Reinvestment              0  \n",
       "2   Reinvestment              0  \n",
       "3         Cheque              0  \n",
       "4         Cheque              0  "
      ]
     },
     "execution_count": 5,
     "metadata": {},
     "output_type": "execute_result"
    }
   ],
   "source": [
    "# Exchange rates of all the Currencies into US dollars, using the average exchange rate of the currencies in 2022\n",
    "#https://www.irs.gov/individuals/international-taxpayers/yearly-average-currency-exchange-rates\n",
    "\n",
    "unique_currencies = [\"US Dollar\", \"Euro\", \"UK Pound\", \"Bitcoin\", \"Yen\", \"Yuan\", \"Canadian Dollar\", \"Rupee\", \"Australian Dollar\", \"Ruble\", \"Shekel\", \"Brazil Real\", \"Mexican Peso\", \"Swiss Franc\",\"Saudi Riyal\"]\n",
    "exchange_rates = [1, 0.951, 0.811, 2.32*10**(-5), 131.454, 6.730, 1.301, 78.598, 1.442, 69.896, 3.361, 5.165, 20.110, 0.955, 3.755 ]\n",
    "\n",
    "\n",
    "def update_rows(partition):\n",
    "    for i in range(len(unique_currencies)):\n",
    "        mask = partition['Receiving Currency'] == unique_currencies[i]\n",
    "        partition.loc[mask, 'Amount Received'] /= exchange_rates[i]\n",
    "        mask = partition[\"Payment Currency\"] == unique_currencies[i]\n",
    "        partition.loc[mask, 'Amount Paid'] /= exchange_rates[i]\n",
    "    return partition\n",
    "\n",
    "df = df.map_partitions(update_rows,  meta = df)\n",
    "\n",
    "df.head()\n",
    "    "
   ]
  },
  {
   "cell_type": "code",
   "execution_count": 12,
   "metadata": {},
   "outputs": [],
   "source": [
    "\n",
    "from matplotlib.ticker import FuncFormatter\n",
    "\n",
    "def millions_formatter(x, pos):\n",
    "    return f'{x / 1e6:.0f}M'"
   ]
  },
  {
   "cell_type": "markdown",
   "metadata": {},
   "source": [
    "#### Using a boxplot to see the distribution of the numerical features in the dataset (only the first 200 partitions)"
   ]
  },
  {
   "cell_type": "code",
   "execution_count": 18,
   "metadata": {},
   "outputs": [
    {
     "name": "stderr",
     "output_type": "stream",
     "text": [
      "100%|██████████| 200/200 [06:44<00:00,  2.02s/it]\n"
     ]
    },
    {
     "data": {
      "image/png": "[encoded data removed]",
      "text/plain": [
       "<Figure size 792x576 with 1 Axes>"
      ]
     },
     "metadata": {
      "needs_background": "light"
     },
     "output_type": "display_data"
    }
   ],
   "source": [
    "df_amount_received = np.empty((0, 2))\n",
    "\n",
    "for i in tqdm(range(200)):\n",
    "    df_temp = np.array(df.get_partition(i)[[\"Amount Received\", \"Amount Paid\"]].compute())\n",
    "    df_amount_received = np.vstack((df_amount_received, df_temp))\n",
    "\n",
    "plt.figure(figsize=(11,8))\n",
    "_= plt.boxplot(df_amount_received)\n",
    "plt.title(\"Boxplot of Data\", fontsize = 17)\n",
    "plt.gca().yaxis.set_major_formatter(FuncFormatter(millions_formatter))\n",
    "\n",
    "_= plt.xticks([1,2], [\"Amount Received\", \"Amount Paid\"], fontsize = 16)\n",
    "_= plt.yticks(fontsize = 16)\n",
    "\n"
   ]
  },
  {
   "cell_type": "markdown",
   "metadata": {},
   "source": [
    "#### The dataset contains alot of outliers, therefore we will use an outlier removal technique "
   ]
  },
  {
   "cell_type": "markdown",
   "metadata": {},
   "source": [
    "##### The technique we will usse is the MAD(Median Approximate Deviation) method because the MAD method works well with data with many extreme outliers because its uses the median of the data instead of the mean like many other methods"
   ]
  },
  {
   "cell_type": "code",
   "execution_count": 6,
   "metadata": {},
   "outputs": [],
   "source": [
    "def filter_df(partition):\n",
    "    Median = np.median(partition[\"Amount Received\"])\n",
    "\n",
    "    d = (partition[\"Amount Received\"] - Median).abs()\n",
    "    MAD = np.median(d)\n",
    "    bound = MAD * 3\n",
    "    \n",
    "\n",
    "    Median2 = np.median(partition[\"Amount Paid\"])\n",
    "\n",
    "    s = (partition[\"Amount Paid\"] - Median2).abs()\n",
    "    MAD2 = np.median(s)\n",
    "    bound2 = MAD2 * 3\n",
    "\n",
    "    return  partition.loc[(d < bound) & (s < bound2)]\n",
    "\n",
    "filtered_df_MAD = df.map_partitions(filter_df)\n"
   ]
  },
  {
   "cell_type": "markdown",
   "metadata": {},
   "source": [
    "#### This is the resulting distribution of the data after outlier removal (only the first 200 partitions)"
   ]
  },
  {
   "cell_type": "code",
   "execution_count": 14,
   "metadata": {},
   "outputs": [
    {
     "name": "stderr",
     "output_type": "stream",
     "text": [
      "100%|██████████| 200/200 [06:09<00:00,  1.85s/it]\n"
     ]
    }
   ],
   "source": [
    "bins_count = 80\n",
    "\n",
    "hist1 = np.zeros(bins_count)\n",
    "hist2 = np.zeros(bins_count)\n",
    "bins_setting = np.linspace(0, 80, bins_count + 1)\n",
    "\n",
    "\n",
    "for i in tqdm(range(200)):\n",
    "    df_temp = filtered_df_MAD.get_partition(i)[[\"Amount Received\",\"Amount Paid\"]].compute()\n",
    "    new_counts, _ = np.histogram(df_temp[\"Amount Received\"], bins = bins_setting)\n",
    "    hist1 += new_counts\n",
    "    new_counts, _ = np.histogram(df_temp[\"Amount Paid\"], bins = bins_setting)\n",
    "    hist2 += new_counts"
   ]
  },
  {
   "cell_type": "code",
   "execution_count": 17,
   "metadata": {},
   "outputs": [
    {
     "data": {
      "image/png": "[encoded data removed]",
      "text/plain": [
       "<Figure size 792x576 with 1 Axes>"
      ]
     },
     "metadata": {
      "needs_background": "light"
     },
     "output_type": "display_data"
    }
   ],
   "source": [
    "plt.figure(figsize=(11,8))\n",
    "plt.title(\"Distribution of the data after outlier removal\", fontsize = 17)\n",
    "plt.gca().yaxis.set_major_formatter(FuncFormatter(millions_formatter))\n",
    "\n",
    "plt.xticks(fontsize = 16)\n",
    "plt.yticks(fontsize = 16)\n",
    "_=plt.bar(bins_setting[:-1], hist1, label=\"Amount Received\", color = \"tab:red\")\n",
    "_=plt.bar(bins_setting[:-1], hist2, label=\"Amount Paid\", color = \"tab:blue\", alpha= 0.6)\n",
    "\n",
    "plt.legend(fontsize = 14)\n",
    "plt.show()"
   ]
  },
  {
   "cell_type": "markdown",
   "metadata": {},
   "source": [
    "#### The distribution of the data is skewed. We can use a log transformation to remove the skewness in the data"
   ]
  },
  {
   "cell_type": "markdown",
   "metadata": {},
   "source": [
    "#### This data also still has outliers but instead of further decreasing the amount of data we can use log transformation which also decreases the number of outliers"
   ]
  },
  {
   "cell_type": "markdown",
   "metadata": {},
   "source": [
    "#### Log transformation can help normalize the distribution of data. It makes the data more useful to techniques and models that assume normality."
   ]
  },
  {
   "cell_type": "code",
   "execution_count": 7,
   "metadata": {},
   "outputs": [],
   "source": [
    "def log_transform(partition):\n",
    "    partition = partition.replace([np.inf, -np.inf], np.nan)\n",
    "    partition.dropna()\n",
    "    partition['Amount Received'] = np.log(partition['Amount Received'])\n",
    "    partition['Amount Paid'] = np.log(partition['Amount Paid'])\n",
    "    return partition\n",
    "\n",
    "df_transformed = df.map_partitions(log_transform)\n"
   ]
  },
  {
   "cell_type": "markdown",
   "metadata": {},
   "source": [
    "#### Histogram of the data after logarithmic transformation (only the first 200 partitions)"
   ]
  },
  {
   "cell_type": "code",
   "execution_count": 23,
   "metadata": {},
   "outputs": [
    {
     "name": "stderr",
     "output_type": "stream",
     "text": [
      "100%|██████████| 200/200 [09:30<00:00,  2.85s/it]\n"
     ]
    }
   ],
   "source": [
    "bins_count = 30\n",
    "\n",
    "hist3 = np.zeros(bins_count)\n",
    "hist4 = np.zeros(bins_count)\n",
    "bins_setting = np.linspace(0, 26, bins_count + 1)\n",
    "\n",
    "\n",
    "for i in tqdm(range(200)):\n",
    "    df_temp = df_transformed.get_partition(i)[[\"Amount Received\",\"Amount Paid\"]].compute()\n",
    "    new_counts, _ = np.histogram(df_temp[\"Amount Received\"], bins = bins_setting)\n",
    "    hist3 += new_counts\n",
    "    new_counts, _ = np.histogram(df_temp[\"Amount Paid\"], bins = bins_setting)\n",
    "    hist4 += new_counts"
   ]
  },
  {
   "cell_type": "code",
   "execution_count": 27,
   "metadata": {},
   "outputs": [
    {
     "data": {
      "image/png": "[encoded data removed]",
      "text/plain": [
       "<Figure size 792x576 with 1 Axes>"
      ]
     },
     "metadata": {
      "needs_background": "light"
     },
     "output_type": "display_data"
    }
   ],
   "source": [
    "plt.figure(figsize=(11,8))\n",
    "plt.title(\"Distribution of the data after Logarithmic Transformation\", fontsize = 17)\n",
    "plt.gca().yaxis.set_major_formatter(FuncFormatter(millions_formatter))\n",
    "\n",
    "plt.xticks(fontsize = 16)\n",
    "plt.yticks(fontsize = 16)\n",
    "_=plt.bar(bins_setting[:-1], hist3, label=\"Amount Received\", color = \"tab:red\")\n",
    "_=plt.bar(bins_setting[:-1], hist4, label=\"Amount Paid\", color = \"tab:blue\", alpha= 0.6)\n",
    "\n",
    "plt.legend(fontsize = 14)\n",
    "plt.show()\n"
   ]
  },
  {
   "cell_type": "markdown",
   "metadata": {},
   "source": [
    "#### Of all the laundering cases which method is the most frequent (only first 200 partitions)"
   ]
  },
  {
   "cell_type": "code",
   "execution_count": 34,
   "metadata": {},
   "outputs": [
    {
     "name": "stderr",
     "output_type": "stream",
     "text": [
      "Processing: 100%|██████████| 200/200 [06:00<00:00,  1.80s/it]\n"
     ]
    },
    {
     "data": {
      "text/plain": [
       "Text(0.5, 0, 'Payment Format')"
      ]
     },
     "execution_count": 34,
     "metadata": {},
     "output_type": "execute_result"
    },
    {
     "data": {
      "image/png": "[encoded data removed]",
      "text/plain": [
       "<Figure size 720x432 with 1 Axes>"
      ]
     },
     "metadata": {
      "needs_background": "light"
     },
     "output_type": "display_data"
    }
   ],
   "source": [
    "payment_format_count = pd.Series(data = [0,0,0,0,0,0,0], index = [\"Cheque\", \"Credit Card\", \"ACH\", \"Cash\", \"Reinvestment\", \"Wire\", \"Bitcoin\"])\n",
    "\n",
    "\n",
    "for i in tqdm(range(200), desc='Processing'):\n",
    "    df_temp = df.get_partition(i).compute()\n",
    "    payment_format_temp = df_temp[df_temp[\"Is Laundering\"] == 1][\"Payment Format\"].value_counts()\n",
    "    payment_format_count =  payment_format_count.add(payment_format_temp, fill_value=0)\n",
    "    \n",
    "plt.figure(figsize=(10,6))\n",
    "payment_format_count.plot.bar()\n",
    "plt.title(\"Laundering Payment Format frequency\", fontsize = 18)\n",
    "plt.xticks([0,1,2,3,4,5,6],[\"Cheque\", \"Credit Card\", \"ACH\", \"Cash\", \"Reinvestment\", \"Wire\", \"Bitcoin\"], fontsize = 14)\n",
    "plt.ylabel(\"Number of Laundering\", fontsize = 17)\n",
    "plt.xlabel(\"Payment Format\", fontsize = 17)"
   ]
  },
  {
   "cell_type": "markdown",
   "metadata": {},
   "source": [
    "#### A comparison of the number of laundering cases and legal cases"
   ]
  },
  {
   "cell_type": "code",
   "execution_count": 36,
   "metadata": {},
   "outputs": [
    {
     "data": {
      "image/png": "[encoded data removed]",
      "text/plain": [
       "<Figure size 576x432 with 1 Axes>"
      ]
     },
     "metadata": {
      "needs_background": "light"
     },
     "output_type": "display_data"
    }
   ],
   "source": [
    "count_laundering = df_transformed['Is Laundering'].value_counts().compute()\n",
    "\n",
    "plt.figure(figsize=(8, 6))\n",
    "count_laundering.plot(kind='bar', color=['blue', 'red'])\n",
    "plt.title('Is Laundering Distribution')\n",
    "plt.xlabel('Is Laundering')\n",
    "plt.ylabel('Count')\n",
    "plt.xticks(rotation=0)\n",
    "plt.show()"
   ]
  },
  {
   "cell_type": "markdown",
   "metadata": {},
   "source": [
    "#### The data is very imbalanced"
   ]
  },
  {
   "cell_type": "markdown",
   "metadata": {},
   "source": [
    "##### To deal with the data imbalance problem we decided to use undersampling. This method is often not viable because of the loss of potential training data but in this case since the data is so large we are still able to use a large train and test sized data even after undersampling"
   ]
  },
  {
   "cell_type": "code",
   "execution_count": 8,
   "metadata": {},
   "outputs": [],
   "source": [
    "#balancing dataset\n",
    "\n",
    "def balancer(partition):\n",
    "    not_frauds = partition[partition[\"Is Laundering\"] == 0]\n",
    "    frauds = partition[partition[\"Is Laundering\"] == 1]\n",
    "\n",
    "    return pd.concat([frauds, not_frauds.sample(len(frauds))])\n",
    "\n",
    "balanced_df = df_transformed.map_partitions(balancer, meta = df_transformed)\n",
    "\n",
    "balanced_df = balanced_df.repartition(npartitions=300)"
   ]
  },
  {
   "cell_type": "code",
   "execution_count": 18,
   "metadata": {},
   "outputs": [],
   "source": [
    "balanced_df_computed = [balanced_df.get_partition(partition_index) for partition_index in range(300)]\n",
    "balanced_df_computed = dd.concat(balanced_df_computed, interleave_partitions=True)\n",
    "\n",
    "balanced_df_computed = balanced_df_computed.compute()"
   ]
  },
  {
   "cell_type": "markdown",
   "metadata": {},
   "source": [
    "#### After Undersampling the data the number of laundering cases and legal cases are the same"
   ]
  },
  {
   "cell_type": "code",
   "execution_count": 9,
   "metadata": {},
   "outputs": [
    {
     "data": {
      "image/png": "[encoded data removed]",
      "text/plain": [
       "<Figure size 576x432 with 1 Axes>"
      ]
     },
     "metadata": {
      "needs_background": "light"
     },
     "output_type": "display_data"
    }
   ],
   "source": [
    "count_laundering_balanced = balanced_df['Is Laundering'].value_counts().compute()\n",
    "\n",
    "plt.figure(figsize=(8, 6))\n",
    "count_laundering_balanced.plot(kind='bar', color=['blue', 'red'])\n",
    "plt.title('Is Laundering Distribution')\n",
    "plt.xlabel('Is Laundering')\n",
    "plt.ylabel('Count')\n",
    "plt.xticks(rotation=0)\n",
    "plt.show()"
   ]
  },
  {
   "cell_type": "markdown",
   "metadata": {},
   "source": [
    "## FEATURE ENGINEERING"
   ]
  },
  {
   "cell_type": "code",
   "execution_count": 40,
   "metadata": {},
   "outputs": [],
   "source": [
    "copy_featurengineering = balanced_df_computed.copy()\n",
    "\n",
    "copy_featurengineering.columns = copy_featurengineering.columns.str.replace(' ', '_')"
   ]
  },
  {
   "cell_type": "markdown",
   "metadata": {},
   "source": [
    "#### Create new features to be used as input data to capture relevant information in data"
   ]
  },
  {
   "cell_type": "code",
   "execution_count": 41,
   "metadata": {},
   "outputs": [
    {
     "data": {
      "text/html": [
       "<div>\n",
       "<style scoped>\n",
       "    .dataframe tbody tr th:only-of-type {\n",
       "        vertical-align: middle;\n",
       "    }\n",
       "\n",
       "    .dataframe tbody tr th {\n",
       "        vertical-align: top;\n",
       "    }\n",
       "\n",
       "    .dataframe thead th {\n",
       "        text-align: right;\n",
       "    }\n",
       "</style>\n",
       "<table border=\"1\" class=\"dataframe\">\n",
       "  <thead>\n",
       "    <tr style=\"text-align: right;\">\n",
       "      <th></th>\n",
       "      <th>Timestamp</th>\n",
       "      <th>From_Bank</th>\n",
       "      <th>Account</th>\n",
       "      <th>To_Bank</th>\n",
       "      <th>Account.1</th>\n",
       "      <th>Amount_Received</th>\n",
       "      <th>Receiving_Currency</th>\n",
       "      <th>Amount_Paid</th>\n",
       "      <th>Payment_Currency</th>\n",
       "      <th>Payment_Format</th>\n",
       "      <th>Is_Laundering</th>\n",
       "    </tr>\n",
       "  </thead>\n",
       "  <tbody>\n",
       "    <tr>\n",
       "      <th>27581</th>\n",
       "      <td>2022-08-01 00:19:00</td>\n",
       "      <td>70</td>\n",
       "      <td>100428660</td>\n",
       "      <td>8381</td>\n",
       "      <td>8035B3E00</td>\n",
       "      <td>10.233336</td>\n",
       "      <td>US Dollar</td>\n",
       "      <td>10.233336</td>\n",
       "      <td>US Dollar</td>\n",
       "      <td>Cheque</td>\n",
       "      <td>1</td>\n",
       "    </tr>\n",
       "    <tr>\n",
       "      <th>133037</th>\n",
       "      <td>2022-08-01 00:28:00</td>\n",
       "      <td>70</td>\n",
       "      <td>100428660</td>\n",
       "      <td>29630</td>\n",
       "      <td>814B11040</td>\n",
       "      <td>11.368276</td>\n",
       "      <td>US Dollar</td>\n",
       "      <td>11.368276</td>\n",
       "      <td>US Dollar</td>\n",
       "      <td>Cheque</td>\n",
       "      <td>1</td>\n",
       "    </tr>\n",
       "    <tr>\n",
       "      <th>141113</th>\n",
       "      <td>2022-08-01 00:06:00</td>\n",
       "      <td>215275</td>\n",
       "      <td>816439360</td>\n",
       "      <td>235985</td>\n",
       "      <td>816439870</td>\n",
       "      <td>8.334183</td>\n",
       "      <td>US Dollar</td>\n",
       "      <td>8.334183</td>\n",
       "      <td>US Dollar</td>\n",
       "      <td>ACH</td>\n",
       "      <td>1</td>\n",
       "    </tr>\n",
       "    <tr>\n",
       "      <th>154375</th>\n",
       "      <td>2022-08-01 00:05:00</td>\n",
       "      <td>70</td>\n",
       "      <td>100428660</td>\n",
       "      <td>220255</td>\n",
       "      <td>818305750</td>\n",
       "      <td>9.221382</td>\n",
       "      <td>US Dollar</td>\n",
       "      <td>9.221382</td>\n",
       "      <td>US Dollar</td>\n",
       "      <td>Cheque</td>\n",
       "      <td>1</td>\n",
       "    </tr>\n",
       "    <tr>\n",
       "      <th>161098</th>\n",
       "      <td>2022-08-01 00:16:00</td>\n",
       "      <td>70</td>\n",
       "      <td>100428660</td>\n",
       "      <td>1922</td>\n",
       "      <td>8192DF510</td>\n",
       "      <td>5.088584</td>\n",
       "      <td>US Dollar</td>\n",
       "      <td>5.088584</td>\n",
       "      <td>US Dollar</td>\n",
       "      <td>Cash</td>\n",
       "      <td>1</td>\n",
       "    </tr>\n",
       "  </tbody>\n",
       "</table>\n",
       "</div>"
      ],
      "text/plain": [
       "                 Timestamp  From_Bank    Account  To_Bank  Account.1  \\\n",
       "27581  2022-08-01 00:19:00         70  100428660     8381  8035B3E00   \n",
       "133037 2022-08-01 00:28:00         70  100428660    29630  814B11040   \n",
       "141113 2022-08-01 00:06:00     215275  816439360   235985  816439870   \n",
       "154375 2022-08-01 00:05:00         70  100428660   220255  818305750   \n",
       "161098 2022-08-01 00:16:00         70  100428660     1922  8192DF510   \n",
       "\n",
       "        Amount_Received Receiving_Currency  Amount_Paid Payment_Currency  \\\n",
       "27581         10.233336          US Dollar    10.233336        US Dollar   \n",
       "133037        11.368276          US Dollar    11.368276        US Dollar   \n",
       "141113         8.334183          US Dollar     8.334183        US Dollar   \n",
       "154375         9.221382          US Dollar     9.221382        US Dollar   \n",
       "161098         5.088584          US Dollar     5.088584        US Dollar   \n",
       "\n",
       "       Payment_Format  Is_Laundering  \n",
       "27581          Cheque              1  \n",
       "133037         Cheque              1  \n",
       "141113            ACH              1  \n",
       "154375         Cheque              1  \n",
       "161098           Cash              1  "
      ]
     },
     "execution_count": 41,
     "metadata": {},
     "output_type": "execute_result"
    }
   ],
   "source": [
    "copy_featurengineering.head()"
   ]
  },
  {
   "cell_type": "markdown",
   "metadata": {},
   "source": [
    "#### Same Account (binary category of if the start transaction acccount is the same with the end receiving account)\n",
    "\n",
    "#### Same Bank (binary category of if the start bank is the same with the end bank)\n",
    "\n",
    "#### Same Amount (binary category of if the start transaction amount is the same with the end transaction amount )"
   ]
  },
  {
   "cell_type": "code",
   "execution_count": 42,
   "metadata": {},
   "outputs": [
    {
     "data": {
      "text/html": [
       "<div>\n",
       "<style scoped>\n",
       "    .dataframe tbody tr th:only-of-type {\n",
       "        vertical-align: middle;\n",
       "    }\n",
       "\n",
       "    .dataframe tbody tr th {\n",
       "        vertical-align: top;\n",
       "    }\n",
       "\n",
       "    .dataframe thead th {\n",
       "        text-align: right;\n",
       "    }\n",
       "</style>\n",
       "<table border=\"1\" class=\"dataframe\">\n",
       "  <thead>\n",
       "    <tr style=\"text-align: right;\">\n",
       "      <th></th>\n",
       "      <th>Timestamp</th>\n",
       "      <th>From_Bank</th>\n",
       "      <th>Account</th>\n",
       "      <th>To_Bank</th>\n",
       "      <th>Account.1</th>\n",
       "      <th>Amount_Received</th>\n",
       "      <th>Receiving_Currency</th>\n",
       "      <th>Amount_Paid</th>\n",
       "      <th>Payment_Currency</th>\n",
       "      <th>Payment_Format</th>\n",
       "      <th>Is_Laundering</th>\n",
       "      <th>Same Account</th>\n",
       "      <th>Same Bank</th>\n",
       "      <th>Same Amount</th>\n",
       "    </tr>\n",
       "  </thead>\n",
       "  <tbody>\n",
       "    <tr>\n",
       "      <th>27581</th>\n",
       "      <td>2022-08-01 00:19:00</td>\n",
       "      <td>70</td>\n",
       "      <td>100428660</td>\n",
       "      <td>8381</td>\n",
       "      <td>8035B3E00</td>\n",
       "      <td>10.233336</td>\n",
       "      <td>US Dollar</td>\n",
       "      <td>10.233336</td>\n",
       "      <td>US Dollar</td>\n",
       "      <td>Cheque</td>\n",
       "      <td>1</td>\n",
       "      <td>0</td>\n",
       "      <td>0</td>\n",
       "      <td>1</td>\n",
       "    </tr>\n",
       "    <tr>\n",
       "      <th>133037</th>\n",
       "      <td>2022-08-01 00:28:00</td>\n",
       "      <td>70</td>\n",
       "      <td>100428660</td>\n",
       "      <td>29630</td>\n",
       "      <td>814B11040</td>\n",
       "      <td>11.368276</td>\n",
       "      <td>US Dollar</td>\n",
       "      <td>11.368276</td>\n",
       "      <td>US Dollar</td>\n",
       "      <td>Cheque</td>\n",
       "      <td>1</td>\n",
       "      <td>0</td>\n",
       "      <td>0</td>\n",
       "      <td>1</td>\n",
       "    </tr>\n",
       "    <tr>\n",
       "      <th>141113</th>\n",
       "      <td>2022-08-01 00:06:00</td>\n",
       "      <td>215275</td>\n",
       "      <td>816439360</td>\n",
       "      <td>235985</td>\n",
       "      <td>816439870</td>\n",
       "      <td>8.334183</td>\n",
       "      <td>US Dollar</td>\n",
       "      <td>8.334183</td>\n",
       "      <td>US Dollar</td>\n",
       "      <td>ACH</td>\n",
       "      <td>1</td>\n",
       "      <td>0</td>\n",
       "      <td>0</td>\n",
       "      <td>1</td>\n",
       "    </tr>\n",
       "    <tr>\n",
       "      <th>154375</th>\n",
       "      <td>2022-08-01 00:05:00</td>\n",
       "      <td>70</td>\n",
       "      <td>100428660</td>\n",
       "      <td>220255</td>\n",
       "      <td>818305750</td>\n",
       "      <td>9.221382</td>\n",
       "      <td>US Dollar</td>\n",
       "      <td>9.221382</td>\n",
       "      <td>US Dollar</td>\n",
       "      <td>Cheque</td>\n",
       "      <td>1</td>\n",
       "      <td>0</td>\n",
       "      <td>0</td>\n",
       "      <td>1</td>\n",
       "    </tr>\n",
       "    <tr>\n",
       "      <th>161098</th>\n",
       "      <td>2022-08-01 00:16:00</td>\n",
       "      <td>70</td>\n",
       "      <td>100428660</td>\n",
       "      <td>1922</td>\n",
       "      <td>8192DF510</td>\n",
       "      <td>5.088584</td>\n",
       "      <td>US Dollar</td>\n",
       "      <td>5.088584</td>\n",
       "      <td>US Dollar</td>\n",
       "      <td>Cash</td>\n",
       "      <td>1</td>\n",
       "      <td>0</td>\n",
       "      <td>0</td>\n",
       "      <td>1</td>\n",
       "    </tr>\n",
       "  </tbody>\n",
       "</table>\n",
       "</div>"
      ],
      "text/plain": [
       "                 Timestamp  From_Bank    Account  To_Bank  Account.1  \\\n",
       "27581  2022-08-01 00:19:00         70  100428660     8381  8035B3E00   \n",
       "133037 2022-08-01 00:28:00         70  100428660    29630  814B11040   \n",
       "141113 2022-08-01 00:06:00     215275  816439360   235985  816439870   \n",
       "154375 2022-08-01 00:05:00         70  100428660   220255  818305750   \n",
       "161098 2022-08-01 00:16:00         70  100428660     1922  8192DF510   \n",
       "\n",
       "        Amount_Received Receiving_Currency  Amount_Paid Payment_Currency  \\\n",
       "27581         10.233336          US Dollar    10.233336        US Dollar   \n",
       "133037        11.368276          US Dollar    11.368276        US Dollar   \n",
       "141113         8.334183          US Dollar     8.334183        US Dollar   \n",
       "154375         9.221382          US Dollar     9.221382        US Dollar   \n",
       "161098         5.088584          US Dollar     5.088584        US Dollar   \n",
       "\n",
       "       Payment_Format  Is_Laundering  Same Account  Same Bank  Same Amount  \n",
       "27581          Cheque              1             0          0            1  \n",
       "133037         Cheque              1             0          0            1  \n",
       "141113            ACH              1             0          0            1  \n",
       "154375         Cheque              1             0          0            1  \n",
       "161098           Cash              1             0          0            1  "
      ]
     },
     "execution_count": 42,
     "metadata": {},
     "output_type": "execute_result"
    }
   ],
   "source": [
    "copy_featurengineering['Same Account'] = (copy_featurengineering['Account'] == copy_featurengineering['Account.1']).astype(int)\n",
    "copy_featurengineering['Same Bank'] = (copy_featurengineering['To_Bank'] == copy_featurengineering['From_Bank']).astype(int)\n",
    "copy_featurengineering['Same Amount'] = (copy_featurengineering['Amount_Received'] == copy_featurengineering['Amount_Paid']).astype(int)\n",
    "\n",
    "copy_featurengineering.head()"
   ]
  },
  {
   "cell_type": "markdown",
   "metadata": {},
   "source": [
    "##### Creating seasonality features\n",
    "\n",
    "Month (month of transaction) (Removed from modelling because of low significance)\n",
    "\n",
    "Quarter (quarter of transaction) (Removed from modelling because of low significance)\n",
    "\n",
    "Dayofyear (day of year of transaction) (Removed from modelling because of low significance)"
   ]
  },
  {
   "cell_type": "code",
   "execution_count": 43,
   "metadata": {},
   "outputs": [],
   "source": [
    "# copy_featurengineering = copy_featurengineering.assign(Month= lambda partition:  partition[\"Timestamp\"].dt.month)\n",
    "# copy_featurengineering = copy_featurengineering.assign(Quarter= lambda partition:  partition[\"Timestamp\"].dt.quarter)\n",
    "# copy_featurengineering = copy_featurengineering.assign(Dayofyear= lambda partition:  partition[\"Timestamp\"].dt.dayofyear)\n",
    "\n",
    "# copy_featurengineering.head()"
   ]
  },
  {
   "cell_type": "markdown",
   "metadata": {},
   "source": [
    "##### Deleted some features which aren't suitable for model creation\n",
    "a. Account\n",
    "\n",
    "b. Account.1\n",
    "\n",
    "c. Timestamp\n",
    "\n",
    "d. From Bank\n",
    "\n",
    "e. To Bank"
   ]
  },
  {
   "cell_type": "code",
   "execution_count": 44,
   "metadata": {},
   "outputs": [],
   "source": [
    "copy_featurengineering = copy_featurengineering.drop(columns = \"Account\")\n",
    "copy_featurengineering = copy_featurengineering.drop(columns = \"Account.1\")\n",
    "copy_featurengineering = copy_featurengineering.drop(columns = \"Timestamp\")\n",
    "copy_featurengineering = copy_featurengineering.drop(columns = \"From_Bank\")\n",
    "copy_featurengineering = copy_featurengineering.drop(columns = \"To_Bank\")"
   ]
  },
  {
   "cell_type": "markdown",
   "metadata": {},
   "source": [
    "##### Transformed the categorical features using one hot encoding, the features that we transformed are:\n",
    "\n",
    "a. Receiving Currency\n",
    "\n",
    "b. Payment Format\n",
    "\n",
    "c. Same Account\n",
    "\n",
    "d. Same Bank\n",
    "\n",
    "e. Same Amount"
   ]
  },
  {
   "cell_type": "code",
   "execution_count": 45,
   "metadata": {},
   "outputs": [
    {
     "data": {
      "text/html": [
       "<div>\n",
       "<style scoped>\n",
       "    .dataframe tbody tr th:only-of-type {\n",
       "        vertical-align: middle;\n",
       "    }\n",
       "\n",
       "    .dataframe tbody tr th {\n",
       "        vertical-align: top;\n",
       "    }\n",
       "\n",
       "    .dataframe thead th {\n",
       "        text-align: right;\n",
       "    }\n",
       "</style>\n",
       "<table border=\"1\" class=\"dataframe\">\n",
       "  <thead>\n",
       "    <tr style=\"text-align: right;\">\n",
       "      <th></th>\n",
       "      <th>Amount_Received</th>\n",
       "      <th>Amount_Paid</th>\n",
       "      <th>Is_Laundering</th>\n",
       "      <th>Receiving_Currency_Bitcoin</th>\n",
       "      <th>Receiving_Currency_Brazil Real</th>\n",
       "      <th>Receiving_Currency_Canadian Dollar</th>\n",
       "      <th>Receiving_Currency_Euro</th>\n",
       "      <th>Receiving_Currency_Mexican Peso</th>\n",
       "      <th>Receiving_Currency_Ruble</th>\n",
       "      <th>Receiving_Currency_Rupee</th>\n",
       "      <th>...</th>\n",
       "      <th>Payment_Currency_Saudi Riyal</th>\n",
       "      <th>Payment_Currency_Shekel</th>\n",
       "      <th>Payment_Currency_Swiss Franc</th>\n",
       "      <th>Payment_Currency_UK Pound</th>\n",
       "      <th>Payment_Currency_US Dollar</th>\n",
       "      <th>Payment_Currency_Yen</th>\n",
       "      <th>Payment_Currency_Yuan</th>\n",
       "      <th>Same Account_1</th>\n",
       "      <th>Same Bank_1</th>\n",
       "      <th>Same Amount_1</th>\n",
       "    </tr>\n",
       "  </thead>\n",
       "  <tbody>\n",
       "    <tr>\n",
       "      <th>27581</th>\n",
       "      <td>10.233336</td>\n",
       "      <td>10.233336</td>\n",
       "      <td>1</td>\n",
       "      <td>0</td>\n",
       "      <td>0</td>\n",
       "      <td>0</td>\n",
       "      <td>0</td>\n",
       "      <td>0</td>\n",
       "      <td>0</td>\n",
       "      <td>0</td>\n",
       "      <td>...</td>\n",
       "      <td>0</td>\n",
       "      <td>0</td>\n",
       "      <td>0</td>\n",
       "      <td>0</td>\n",
       "      <td>1</td>\n",
       "      <td>0</td>\n",
       "      <td>0</td>\n",
       "      <td>0</td>\n",
       "      <td>0</td>\n",
       "      <td>1</td>\n",
       "    </tr>\n",
       "    <tr>\n",
       "      <th>133037</th>\n",
       "      <td>11.368276</td>\n",
       "      <td>11.368276</td>\n",
       "      <td>1</td>\n",
       "      <td>0</td>\n",
       "      <td>0</td>\n",
       "      <td>0</td>\n",
       "      <td>0</td>\n",
       "      <td>0</td>\n",
       "      <td>0</td>\n",
       "      <td>0</td>\n",
       "      <td>...</td>\n",
       "      <td>0</td>\n",
       "      <td>0</td>\n",
       "      <td>0</td>\n",
       "      <td>0</td>\n",
       "      <td>1</td>\n",
       "      <td>0</td>\n",
       "      <td>0</td>\n",
       "      <td>0</td>\n",
       "      <td>0</td>\n",
       "      <td>1</td>\n",
       "    </tr>\n",
       "    <tr>\n",
       "      <th>141113</th>\n",
       "      <td>8.334183</td>\n",
       "      <td>8.334183</td>\n",
       "      <td>1</td>\n",
       "      <td>0</td>\n",
       "      <td>0</td>\n",
       "      <td>0</td>\n",
       "      <td>0</td>\n",
       "      <td>0</td>\n",
       "      <td>0</td>\n",
       "      <td>0</td>\n",
       "      <td>...</td>\n",
       "      <td>0</td>\n",
       "      <td>0</td>\n",
       "      <td>0</td>\n",
       "      <td>0</td>\n",
       "      <td>1</td>\n",
       "      <td>0</td>\n",
       "      <td>0</td>\n",
       "      <td>0</td>\n",
       "      <td>0</td>\n",
       "      <td>1</td>\n",
       "    </tr>\n",
       "    <tr>\n",
       "      <th>154375</th>\n",
       "      <td>9.221382</td>\n",
       "      <td>9.221382</td>\n",
       "      <td>1</td>\n",
       "      <td>0</td>\n",
       "      <td>0</td>\n",
       "      <td>0</td>\n",
       "      <td>0</td>\n",
       "      <td>0</td>\n",
       "      <td>0</td>\n",
       "      <td>0</td>\n",
       "      <td>...</td>\n",
       "      <td>0</td>\n",
       "      <td>0</td>\n",
       "      <td>0</td>\n",
       "      <td>0</td>\n",
       "      <td>1</td>\n",
       "      <td>0</td>\n",
       "      <td>0</td>\n",
       "      <td>0</td>\n",
       "      <td>0</td>\n",
       "      <td>1</td>\n",
       "    </tr>\n",
       "    <tr>\n",
       "      <th>161098</th>\n",
       "      <td>5.088584</td>\n",
       "      <td>5.088584</td>\n",
       "      <td>1</td>\n",
       "      <td>0</td>\n",
       "      <td>0</td>\n",
       "      <td>0</td>\n",
       "      <td>0</td>\n",
       "      <td>0</td>\n",
       "      <td>0</td>\n",
       "      <td>0</td>\n",
       "      <td>...</td>\n",
       "      <td>0</td>\n",
       "      <td>0</td>\n",
       "      <td>0</td>\n",
       "      <td>0</td>\n",
       "      <td>1</td>\n",
       "      <td>0</td>\n",
       "      <td>0</td>\n",
       "      <td>0</td>\n",
       "      <td>0</td>\n",
       "      <td>1</td>\n",
       "    </tr>\n",
       "  </tbody>\n",
       "</table>\n",
       "<p>5 rows × 40 columns</p>\n",
       "</div>"
      ],
      "text/plain": [
       "        Amount_Received  Amount_Paid  Is_Laundering  \\\n",
       "27581         10.233336    10.233336              1   \n",
       "133037        11.368276    11.368276              1   \n",
       "141113         8.334183     8.334183              1   \n",
       "154375         9.221382     9.221382              1   \n",
       "161098         5.088584     5.088584              1   \n",
       "\n",
       "        Receiving_Currency_Bitcoin  Receiving_Currency_Brazil Real  \\\n",
       "27581                            0                               0   \n",
       "133037                           0                               0   \n",
       "141113                           0                               0   \n",
       "154375                           0                               0   \n",
       "161098                           0                               0   \n",
       "\n",
       "        Receiving_Currency_Canadian Dollar  Receiving_Currency_Euro  \\\n",
       "27581                                    0                        0   \n",
       "133037                                   0                        0   \n",
       "141113                                   0                        0   \n",
       "154375                                   0                        0   \n",
       "161098                                   0                        0   \n",
       "\n",
       "        Receiving_Currency_Mexican Peso  Receiving_Currency_Ruble  \\\n",
       "27581                                 0                         0   \n",
       "133037                                0                         0   \n",
       "141113                                0                         0   \n",
       "154375                                0                         0   \n",
       "161098                                0                         0   \n",
       "\n",
       "        Receiving_Currency_Rupee  ...  Payment_Currency_Saudi Riyal  \\\n",
       "27581                          0  ...                             0   \n",
       "133037                         0  ...                             0   \n",
       "141113                         0  ...                             0   \n",
       "154375                         0  ...                             0   \n",
       "161098                         0  ...                             0   \n",
       "\n",
       "        Payment_Currency_Shekel  Payment_Currency_Swiss Franc  \\\n",
       "27581                         0                             0   \n",
       "133037                        0                             0   \n",
       "141113                        0                             0   \n",
       "154375                        0                             0   \n",
       "161098                        0                             0   \n",
       "\n",
       "        Payment_Currency_UK Pound  Payment_Currency_US Dollar  \\\n",
       "27581                           0                           1   \n",
       "133037                          0                           1   \n",
       "141113                          0                           1   \n",
       "154375                          0                           1   \n",
       "161098                          0                           1   \n",
       "\n",
       "        Payment_Currency_Yen  Payment_Currency_Yuan  Same Account_1  \\\n",
       "27581                      0                      0               0   \n",
       "133037                     0                      0               0   \n",
       "141113                     0                      0               0   \n",
       "154375                     0                      0               0   \n",
       "161098                     0                      0               0   \n",
       "\n",
       "        Same Bank_1  Same Amount_1  \n",
       "27581             0              1  \n",
       "133037            0              1  \n",
       "141113            0              1  \n",
       "154375            0              1  \n",
       "161098            0              1  \n",
       "\n",
       "[5 rows x 40 columns]"
      ]
     },
     "execution_count": 45,
     "metadata": {},
     "output_type": "execute_result"
    }
   ],
   "source": [
    "copy_featurengineering = pd.get_dummies(copy_featurengineering, columns=[\"Receiving_Currency\", \"Payment_Format\", \"Payment_Currency\", 'Same Account', 'Same Bank', 'Same Amount'], drop_first=True)\n",
    "copy_featurengineering.head()"
   ]
  },
  {
   "cell_type": "markdown",
   "metadata": {},
   "source": [
    "##### Used Standard Scaler to normalize the numerical features in the data (Amount Received and Amount Paid)"
   ]
  },
  {
   "cell_type": "code",
   "execution_count": 46,
   "metadata": {},
   "outputs": [
    {
     "data": {
      "text/html": [
       "<div>\n",
       "<style scoped>\n",
       "    .dataframe tbody tr th:only-of-type {\n",
       "        vertical-align: middle;\n",
       "    }\n",
       "\n",
       "    .dataframe tbody tr th {\n",
       "        vertical-align: top;\n",
       "    }\n",
       "\n",
       "    .dataframe thead th {\n",
       "        text-align: right;\n",
       "    }\n",
       "</style>\n",
       "<table border=\"1\" class=\"dataframe\">\n",
       "  <thead>\n",
       "    <tr style=\"text-align: right;\">\n",
       "      <th></th>\n",
       "      <th>Amount_Received</th>\n",
       "      <th>Amount_Paid</th>\n",
       "      <th>Is_Laundering</th>\n",
       "      <th>Receiving_Currency_Bitcoin</th>\n",
       "      <th>Receiving_Currency_Brazil Real</th>\n",
       "      <th>Receiving_Currency_Canadian Dollar</th>\n",
       "      <th>Receiving_Currency_Euro</th>\n",
       "      <th>Receiving_Currency_Mexican Peso</th>\n",
       "      <th>Receiving_Currency_Ruble</th>\n",
       "      <th>Receiving_Currency_Rupee</th>\n",
       "      <th>...</th>\n",
       "      <th>Payment_Currency_Saudi Riyal</th>\n",
       "      <th>Payment_Currency_Shekel</th>\n",
       "      <th>Payment_Currency_Swiss Franc</th>\n",
       "      <th>Payment_Currency_UK Pound</th>\n",
       "      <th>Payment_Currency_US Dollar</th>\n",
       "      <th>Payment_Currency_Yen</th>\n",
       "      <th>Payment_Currency_Yuan</th>\n",
       "      <th>Same Account_1</th>\n",
       "      <th>Same Bank_1</th>\n",
       "      <th>Same Amount_1</th>\n",
       "    </tr>\n",
       "  </thead>\n",
       "  <tbody>\n",
       "    <tr>\n",
       "      <th>27581</th>\n",
       "      <td>1.080451</td>\n",
       "      <td>1.080186</td>\n",
       "      <td>1</td>\n",
       "      <td>0</td>\n",
       "      <td>0</td>\n",
       "      <td>0</td>\n",
       "      <td>0</td>\n",
       "      <td>0</td>\n",
       "      <td>0</td>\n",
       "      <td>0</td>\n",
       "      <td>...</td>\n",
       "      <td>0</td>\n",
       "      <td>0</td>\n",
       "      <td>0</td>\n",
       "      <td>0</td>\n",
       "      <td>1</td>\n",
       "      <td>0</td>\n",
       "      <td>0</td>\n",
       "      <td>0</td>\n",
       "      <td>0</td>\n",
       "      <td>1</td>\n",
       "    </tr>\n",
       "    <tr>\n",
       "      <th>133037</th>\n",
       "      <td>1.541315</td>\n",
       "      <td>1.540908</td>\n",
       "      <td>1</td>\n",
       "      <td>0</td>\n",
       "      <td>0</td>\n",
       "      <td>0</td>\n",
       "      <td>0</td>\n",
       "      <td>0</td>\n",
       "      <td>0</td>\n",
       "      <td>0</td>\n",
       "      <td>...</td>\n",
       "      <td>0</td>\n",
       "      <td>0</td>\n",
       "      <td>0</td>\n",
       "      <td>0</td>\n",
       "      <td>1</td>\n",
       "      <td>0</td>\n",
       "      <td>0</td>\n",
       "      <td>0</td>\n",
       "      <td>0</td>\n",
       "      <td>1</td>\n",
       "    </tr>\n",
       "    <tr>\n",
       "      <th>141113</th>\n",
       "      <td>0.309265</td>\n",
       "      <td>0.309237</td>\n",
       "      <td>1</td>\n",
       "      <td>0</td>\n",
       "      <td>0</td>\n",
       "      <td>0</td>\n",
       "      <td>0</td>\n",
       "      <td>0</td>\n",
       "      <td>0</td>\n",
       "      <td>0</td>\n",
       "      <td>...</td>\n",
       "      <td>0</td>\n",
       "      <td>0</td>\n",
       "      <td>0</td>\n",
       "      <td>0</td>\n",
       "      <td>1</td>\n",
       "      <td>0</td>\n",
       "      <td>0</td>\n",
       "      <td>0</td>\n",
       "      <td>0</td>\n",
       "      <td>1</td>\n",
       "    </tr>\n",
       "    <tr>\n",
       "      <th>154375</th>\n",
       "      <td>0.669529</td>\n",
       "      <td>0.669390</td>\n",
       "      <td>1</td>\n",
       "      <td>0</td>\n",
       "      <td>0</td>\n",
       "      <td>0</td>\n",
       "      <td>0</td>\n",
       "      <td>0</td>\n",
       "      <td>0</td>\n",
       "      <td>0</td>\n",
       "      <td>...</td>\n",
       "      <td>0</td>\n",
       "      <td>0</td>\n",
       "      <td>0</td>\n",
       "      <td>0</td>\n",
       "      <td>1</td>\n",
       "      <td>0</td>\n",
       "      <td>0</td>\n",
       "      <td>0</td>\n",
       "      <td>0</td>\n",
       "      <td>1</td>\n",
       "    </tr>\n",
       "    <tr>\n",
       "      <th>161098</th>\n",
       "      <td>-1.008672</td>\n",
       "      <td>-1.008294</td>\n",
       "      <td>1</td>\n",
       "      <td>0</td>\n",
       "      <td>0</td>\n",
       "      <td>0</td>\n",
       "      <td>0</td>\n",
       "      <td>0</td>\n",
       "      <td>0</td>\n",
       "      <td>0</td>\n",
       "      <td>...</td>\n",
       "      <td>0</td>\n",
       "      <td>0</td>\n",
       "      <td>0</td>\n",
       "      <td>0</td>\n",
       "      <td>1</td>\n",
       "      <td>0</td>\n",
       "      <td>0</td>\n",
       "      <td>0</td>\n",
       "      <td>0</td>\n",
       "      <td>1</td>\n",
       "    </tr>\n",
       "  </tbody>\n",
       "</table>\n",
       "<p>5 rows × 40 columns</p>\n",
       "</div>"
      ],
      "text/plain": [
       "        Amount_Received  Amount_Paid  Is_Laundering  \\\n",
       "27581          1.080451     1.080186              1   \n",
       "133037         1.541315     1.540908              1   \n",
       "141113         0.309265     0.309237              1   \n",
       "154375         0.669529     0.669390              1   \n",
       "161098        -1.008672    -1.008294              1   \n",
       "\n",
       "        Receiving_Currency_Bitcoin  Receiving_Currency_Brazil Real  \\\n",
       "27581                            0                               0   \n",
       "133037                           0                               0   \n",
       "141113                           0                               0   \n",
       "154375                           0                               0   \n",
       "161098                           0                               0   \n",
       "\n",
       "        Receiving_Currency_Canadian Dollar  Receiving_Currency_Euro  \\\n",
       "27581                                    0                        0   \n",
       "133037                                   0                        0   \n",
       "141113                                   0                        0   \n",
       "154375                                   0                        0   \n",
       "161098                                   0                        0   \n",
       "\n",
       "        Receiving_Currency_Mexican Peso  Receiving_Currency_Ruble  \\\n",
       "27581                                 0                         0   \n",
       "133037                                0                         0   \n",
       "141113                                0                         0   \n",
       "154375                                0                         0   \n",
       "161098                                0                         0   \n",
       "\n",
       "        Receiving_Currency_Rupee  ...  Payment_Currency_Saudi Riyal  \\\n",
       "27581                          0  ...                             0   \n",
       "133037                         0  ...                             0   \n",
       "141113                         0  ...                             0   \n",
       "154375                         0  ...                             0   \n",
       "161098                         0  ...                             0   \n",
       "\n",
       "        Payment_Currency_Shekel  Payment_Currency_Swiss Franc  \\\n",
       "27581                         0                             0   \n",
       "133037                        0                             0   \n",
       "141113                        0                             0   \n",
       "154375                        0                             0   \n",
       "161098                        0                             0   \n",
       "\n",
       "        Payment_Currency_UK Pound  Payment_Currency_US Dollar  \\\n",
       "27581                           0                           1   \n",
       "133037                          0                           1   \n",
       "141113                          0                           1   \n",
       "154375                          0                           1   \n",
       "161098                          0                           1   \n",
       "\n",
       "        Payment_Currency_Yen  Payment_Currency_Yuan  Same Account_1  \\\n",
       "27581                      0                      0               0   \n",
       "133037                     0                      0               0   \n",
       "141113                     0                      0               0   \n",
       "154375                     0                      0               0   \n",
       "161098                     0                      0               0   \n",
       "\n",
       "        Same Bank_1  Same Amount_1  \n",
       "27581             0              1  \n",
       "133037            0              1  \n",
       "141113            0              1  \n",
       "154375            0              1  \n",
       "161098            0              1  \n",
       "\n",
       "[5 rows x 40 columns]"
      ]
     },
     "execution_count": 46,
     "metadata": {},
     "output_type": "execute_result"
    }
   ],
   "source": [
    "from sklearn.preprocessing import StandardScaler\n",
    "SC = StandardScaler()\n",
    "\n",
    "copy_featurengineering[\"Amount_Received\"] = SC.fit_transform(np.array(copy_featurengineering[\"Amount_Received\"]).reshape(-1,1))\n",
    "copy_featurengineering[\"Amount_Paid\"] = SC.fit_transform(np.array(copy_featurengineering[\"Amount_Paid\"]).reshape(-1,1))\n",
    "\n",
    "\n",
    "copy_featurengineering.head()"
   ]
  },
  {
   "cell_type": "markdown",
   "metadata": {},
   "source": [
    "## MODELING + Performance Metrics\n"
   ]
  },
  {
   "cell_type": "code",
   "execution_count": 47,
   "metadata": {},
   "outputs": [],
   "source": [
    "from sklearn.model_selection import train_test_split\n",
    "from sklearn.metrics import classification_report\n",
    "from sklearn.metrics import confusion_matrix"
   ]
  },
  {
   "cell_type": "markdown",
   "metadata": {},
   "source": [
    "#### Creating an X and Y df, separating the independent and dependent variables"
   ]
  },
  {
   "cell_type": "code",
   "execution_count": 49,
   "metadata": {},
   "outputs": [],
   "source": [
    "DF_X_b = copy_featurengineering.drop(columns = \"Is_Laundering\")\n",
    "DF_Y_b = copy_featurengineering[[\"Is_Laundering\"]]\n"
   ]
  },
  {
   "cell_type": "markdown",
   "metadata": {},
   "source": [
    "#### Split the data ( 70 : 30 )"
   ]
  },
  {
   "cell_type": "code",
   "execution_count": 50,
   "metadata": {},
   "outputs": [],
   "source": [
    "Xtrain_temp, Xtest_temp, Ytrain_temp, Ytest_temp = train_test_split(DF_X_b, DF_Y_b, test_size= 0.3)"
   ]
  },
  {
   "cell_type": "markdown",
   "metadata": {},
   "source": [
    "#### Random Forest Classifer"
   ]
  },
  {
   "cell_type": "code",
   "execution_count": 53,
   "metadata": {},
   "outputs": [
    {
     "name": "stderr",
     "output_type": "stream",
     "text": [
      "C:\\Users\\Andy\\AppData\\Local\\Temp\\ipykernel_11420\\1185741660.py:3: DataConversionWarning: A column-vector y was passed when a 1d array was expected. Please change the shape of y to (n_samples,), for example using ravel().\n",
      "  rd.fit(Xtrain_temp, Ytrain_temp)\n"
     ]
    },
    {
     "name": "stdout",
     "output_type": "stream",
     "text": [
      "Random Forest Classification\n",
      "\n",
      "              precision    recall  f1-score   support\n",
      "\n",
      "           0       0.81      0.81      0.81     97849\n",
      "           1       0.81      0.81      0.81     97841\n",
      "\n",
      "    accuracy                           0.81    195690\n",
      "   macro avg       0.81      0.81      0.81    195690\n",
      "weighted avg       0.81      0.81      0.81    195690\n",
      " \n",
      "\n",
      "\n",
      "Confusion Matrix\n",
      "\n",
      "[[79344 18505]\n",
      " [18595 79246]]\n"
     ]
    }
   ],
   "source": [
    "from sklearn.ensemble import RandomForestClassifier\n",
    "rd = RandomForestClassifier(n_estimators=200, criterion=\"gini\")\n",
    "rd.fit(Xtrain_temp, Ytrain_temp)\n",
    "\n",
    "prediction = rd.predict(Xtest_temp)\n",
    "\n",
    "print(\"Random Forest Classification\\n\")\n",
    "print(classification_report(Ytest_temp, prediction), \"\\n\\n\")\n",
    "print(\"Confusion Matrix\\n\")\n",
    "print(confusion_matrix(Ytest_temp, prediction))"
   ]
  },
  {
   "cell_type": "markdown",
   "metadata": {},
   "source": [
    "#### Logistic Regression"
   ]
  },
  {
   "cell_type": "code",
   "execution_count": 51,
   "metadata": {},
   "outputs": [
    {
     "name": "stderr",
     "output_type": "stream",
     "text": [
      "c:\\Users\\Andy\\AppData\\Local\\Programs\\Python\\Python39\\lib\\site-packages\\sklearn\\utils\\validation.py:1143: DataConversionWarning: A column-vector y was passed when a 1d array was expected. Please change the shape of y to (n_samples, ), for example using ravel().\n",
      "  y = column_or_1d(y, warn=True)\n"
     ]
    },
    {
     "name": "stdout",
     "output_type": "stream",
     "text": [
      "Logistic Regression Classification\n",
      "\n",
      "              precision    recall  f1-score   support\n",
      "\n",
      "           0       0.85      0.89      0.87     97849\n",
      "           1       0.88      0.84      0.86     97841\n",
      "\n",
      "    accuracy                           0.86    195690\n",
      "   macro avg       0.86      0.86      0.86    195690\n",
      "weighted avg       0.86      0.86      0.86    195690\n",
      " \n",
      "\n",
      "\n",
      "Confusion Matrix\n",
      "\n",
      "[[86694 11155]\n",
      " [15545 82296]]\n"
     ]
    }
   ],
   "source": [
    "from sklearn.linear_model import LogisticRegression\n",
    "\n",
    "lg = LogisticRegression(max_iter=500, solver= 'liblinear')\n",
    "lg.fit(Xtrain_temp, Ytrain_temp)\n",
    "\n",
    "\n",
    "prediction = lg.predict(Xtest_temp)\n",
    "\n",
    "print(\"Logistic Regression Classification\\n\")\n",
    "print(classification_report(Ytest_temp, prediction), \"\\n\\n\")\n",
    "print(\"Confusion Matrix\\n\")\n",
    "print(confusion_matrix(Ytest_temp, prediction))\n"
   ]
  },
  {
   "cell_type": "markdown",
   "metadata": {},
   "source": [
    "#### KNN Classifier"
   ]
  },
  {
   "cell_type": "code",
   "execution_count": 52,
   "metadata": {},
   "outputs": [
    {
     "name": "stderr",
     "output_type": "stream",
     "text": [
      "c:\\Users\\Andy\\AppData\\Local\\Programs\\Python\\Python39\\lib\\site-packages\\sklearn\\neighbors\\_classification.py:215: DataConversionWarning: A column-vector y was passed when a 1d array was expected. Please change the shape of y to (n_samples,), for example using ravel().\n",
      "  return self._fit(X, y)\n"
     ]
    },
    {
     "name": "stdout",
     "output_type": "stream",
     "text": [
      "KNN Classification\n",
      "\n",
      "              precision    recall  f1-score   support\n",
      "\n",
      "           0       0.84      0.92      0.88     97849\n",
      "           1       0.91      0.83      0.87     97841\n",
      "\n",
      "    accuracy                           0.88    195690\n",
      "   macro avg       0.88      0.88      0.88    195690\n",
      "weighted avg       0.88      0.88      0.88    195690\n",
      " \n",
      "\n",
      "\n",
      "Confusion Matrix\n",
      "\n",
      "[[90131  7718]\n",
      " [16562 81279]]\n"
     ]
    }
   ],
   "source": [
    "from sklearn.neighbors import KNeighborsClassifier\n",
    "\n",
    "knn = KNeighborsClassifier(n_neighbors = 20)\n",
    "knn.fit(Xtrain_temp, Ytrain_temp)\n",
    "\n",
    "\n",
    "prediction = knn.predict(Xtest_temp)\n",
    "\n",
    "print(\"KNN Classification\\n\")\n",
    "print(classification_report(Ytest_temp, prediction), \"\\n\\n\")\n",
    "print(\"Confusion Matrix\\n\")\n",
    "print(confusion_matrix(Ytest_temp, prediction))"
   ]
  },
  {
   "cell_type": "markdown",
   "metadata": {},
   "source": [
    "#### MLP Classifier"
   ]
  },
  {
   "cell_type": "code",
   "execution_count": 54,
   "metadata": {},
   "outputs": [
    {
     "name": "stderr",
     "output_type": "stream",
     "text": [
      "c:\\Users\\Andy\\AppData\\Local\\Programs\\Python\\Python39\\lib\\site-packages\\sklearn\\neural_network\\_multilayer_perceptron.py:1096: DataConversionWarning: A column-vector y was passed when a 1d array was expected. Please change the shape of y to (n_samples, ), for example using ravel().\n",
      "  y = column_or_1d(y, warn=True)\n"
     ]
    },
    {
     "name": "stdout",
     "output_type": "stream",
     "text": [
      "Multi-layer Perceptron Classifier\n",
      "\n",
      "              precision    recall  f1-score   support\n",
      "\n",
      "           0       0.85      0.92      0.88     97849\n",
      "           1       0.91      0.83      0.87     97841\n",
      "\n",
      "    accuracy                           0.88    195690\n",
      "   macro avg       0.88      0.88      0.88    195690\n",
      "weighted avg       0.88      0.88      0.88    195690\n",
      " \n",
      "\n",
      "\n",
      "Confusion Matrix\n",
      "\n",
      "[[90114  7735]\n",
      " [16428 81413]]\n"
     ]
    }
   ],
   "source": [
    "from sklearn.neural_network import MLPClassifier\n",
    "mlp_classifier = MLPClassifier(\n",
    "    hidden_layer_sizes=(100,50), \n",
    "    max_iter=1000,               \n",
    ")\n",
    "\n",
    "mlp_classifier.fit(Xtrain_temp, Ytrain_temp)\n",
    "\n",
    "\n",
    "prediction = mlp_classifier.predict(Xtest_temp)\n",
    "\n",
    "print(\"Multi-layer Perceptron Classifier\\n\")\n",
    "print(classification_report(Ytest_temp, prediction), \"\\n\\n\")\n",
    "print(\"Confusion Matrix\\n\")\n",
    "print(confusion_matrix(Ytest_temp, prediction))"
   ]
  },
  {
   "cell_type": "markdown",
   "metadata": {},
   "source": [
    "## The model with the highest recall for laundering cases is the logistic regression which 0.84"
   ]
  },
  {
   "cell_type": "markdown",
   "metadata": {},
   "source": [
    "## The model with the highest combined F1_score from both classes are KNN classification and MLP Classifier"
   ]
  },
  {
   "cell_type": "markdown",
   "metadata": {},
   "source": [
    "### More often a higher recall of fraud classification is more desirable to ensure that loses to banks are minimized. So the logistic regression model is the good choice for thie problem. But we should also consider that the precision and Not Fraud recall from the KNN and MLP classifier models are higher with the Fraud recall being only slightly less accurate than the logistic regression model"
   ]
  }
 ],
 "metadata": {
  "kernelspec": {
   "display_name": "Python 3",
   "language": "python",
   "name": "python3"
  },
  "language_info": {
   "codemirror_mode": {
    "name": "ipython",
    "version": 3
   },
   "file_extension": ".py",
   "mimetype": "text/x-python",
   "name": "python",
   "nbconvert_exporter": "python",
   "pygments_lexer": "ipython3",
   "version": "3.9.5"
  }
 },
 "nbformat": 4,
 "nbformat_minor": 2
}
